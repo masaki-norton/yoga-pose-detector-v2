{
 "cells": [
  {
   "cell_type": "markdown",
   "metadata": {},
   "source": [
    "# Imports"
   ]
  },
  {
   "cell_type": "code",
   "execution_count": 1,
   "metadata": {},
   "outputs": [
    {
     "name": "stderr",
     "output_type": "stream",
     "text": [
      "2024-05-27 20:53:25.452039: I tensorflow/core/platform/cpu_feature_guard.cc:210] This TensorFlow binary is optimized to use available CPU instructions in performance-critical operations.\n",
      "To enable the following instructions: AVX2 FMA, in other operations, rebuild TensorFlow with the appropriate compiler flags.\n"
     ]
    }
   ],
   "source": [
    "import glob\n",
    "import os\n",
    "import numpy as np\n",
    "import pandas as pd\n",
    "import cv2\n",
    "from get_landmarks import get_landmarks\n",
    "import matplotlib.pyplot as plt\n",
    "from tqdm import tqdm\n",
    "\n",
    "from sklearn.preprocessing import StandardScaler\n",
    "from sklearn.preprocessing import LabelEncoder\n",
    "from joblib import dump, load\n",
    "\n",
    "from sklearn.pipeline import make_pipeline\n",
    "from sklearn.compose import ColumnTransformer\n",
    "\n",
    "import tensorflow as tf\n",
    "from sklearn.model_selection import train_test_split"
   ]
  },
  {
   "cell_type": "markdown",
   "metadata": {},
   "source": [
    "# Data Extraction"
   ]
  },
  {
   "cell_type": "code",
   "execution_count": 2,
   "metadata": {},
   "outputs": [],
   "source": [
    "path = \"clean_data/TEST_TRAIN/\"\n",
    "poses = [os.path.basename(d) for d in glob.glob(\"clean_data/TEST_TRAIN/*\")]\n",
    "\n",
    "all_imgs_path = []\n",
    "for pose in poses:\n",
    "    curr_path = path + pose + \"/\"\n",
    "    all_imgs_path += (glob.glob(f\"{curr_path}*\"))"
   ]
  },
  {
   "cell_type": "code",
   "execution_count": 3,
   "metadata": {},
   "outputs": [],
   "source": [
    "# # Do Not Run unless necessary!\n",
    "# data = []\n",
    "# for path in tqdm(all_imgs_path, desc=\"Processing Images...\"):\n",
    "#     landmarks = get_landmarks(cv2.imread(path))\n",
    "#     landmarks.append(path)\n",
    "#     data.append(landmarks)\n",
    "\n",
    "# df = pd.DataFrame(data)\n",
    "\n",
    "# df.to_csv(\"raw_kp_data.csv\")"
   ]
  },
  {
   "cell_type": "code",
   "execution_count": 4,
   "metadata": {},
   "outputs": [
    {
     "data": {
      "text/html": [
       "<div>\n",
       "<style scoped>\n",
       "    .dataframe tbody tr th:only-of-type {\n",
       "        vertical-align: middle;\n",
       "    }\n",
       "\n",
       "    .dataframe tbody tr th {\n",
       "        vertical-align: top;\n",
       "    }\n",
       "\n",
       "    .dataframe thead th {\n",
       "        text-align: right;\n",
       "    }\n",
       "</style>\n",
       "<table border=\"1\" class=\"dataframe\">\n",
       "  <thead>\n",
       "    <tr style=\"text-align: right;\">\n",
       "      <th></th>\n",
       "      <th>lmk0_x</th>\n",
       "      <th>lmk0_y</th>\n",
       "      <th>lmk1_x</th>\n",
       "      <th>lmk1_y</th>\n",
       "      <th>lmk2_x</th>\n",
       "      <th>lmk2_y</th>\n",
       "      <th>lmk3_x</th>\n",
       "      <th>lmk3_y</th>\n",
       "      <th>lmk4_x</th>\n",
       "      <th>lmk4_y</th>\n",
       "      <th>...</th>\n",
       "      <th>lmk28_y</th>\n",
       "      <th>lmk29_x</th>\n",
       "      <th>lmk29_y</th>\n",
       "      <th>lmk30_x</th>\n",
       "      <th>lmk30_y</th>\n",
       "      <th>lmk31_x</th>\n",
       "      <th>lmk31_y</th>\n",
       "      <th>lmk32_x</th>\n",
       "      <th>lmk32_y</th>\n",
       "      <th>file_name</th>\n",
       "    </tr>\n",
       "  </thead>\n",
       "  <tbody>\n",
       "    <tr>\n",
       "      <th>0</th>\n",
       "      <td>0.385088</td>\n",
       "      <td>0.702528</td>\n",
       "      <td>0.364045</td>\n",
       "      <td>0.705285</td>\n",
       "      <td>0.361666</td>\n",
       "      <td>0.700772</td>\n",
       "      <td>0.359247</td>\n",
       "      <td>0.696249</td>\n",
       "      <td>0.364545</td>\n",
       "      <td>0.705934</td>\n",
       "      <td>...</td>\n",
       "      <td>0.768468</td>\n",
       "      <td>0.898328</td>\n",
       "      <td>0.851075</td>\n",
       "      <td>0.870051</td>\n",
       "      <td>0.811650</td>\n",
       "      <td>0.781881</td>\n",
       "      <td>0.930616</td>\n",
       "      <td>0.763475</td>\n",
       "      <td>0.904605</td>\n",
       "      <td>clean_data/TEST_TRAIN/downdog/00000372.jpg</td>\n",
       "    </tr>\n",
       "    <tr>\n",
       "      <th>1</th>\n",
       "      <td>0.715758</td>\n",
       "      <td>0.547609</td>\n",
       "      <td>0.729912</td>\n",
       "      <td>0.527488</td>\n",
       "      <td>0.729571</td>\n",
       "      <td>0.523913</td>\n",
       "      <td>0.728997</td>\n",
       "      <td>0.520017</td>\n",
       "      <td>0.728891</td>\n",
       "      <td>0.527579</td>\n",
       "      <td>...</td>\n",
       "      <td>0.664694</td>\n",
       "      <td>0.307465</td>\n",
       "      <td>0.655862</td>\n",
       "      <td>0.261937</td>\n",
       "      <td>0.680302</td>\n",
       "      <td>0.380548</td>\n",
       "      <td>0.670513</td>\n",
       "      <td>0.336641</td>\n",
       "      <td>0.713165</td>\n",
       "      <td>clean_data/TEST_TRAIN/downdog/00000414.jpg</td>\n",
       "    </tr>\n",
       "    <tr>\n",
       "      <th>2</th>\n",
       "      <td>0.530292</td>\n",
       "      <td>0.608646</td>\n",
       "      <td>0.514618</td>\n",
       "      <td>0.623104</td>\n",
       "      <td>0.510664</td>\n",
       "      <td>0.621608</td>\n",
       "      <td>0.506621</td>\n",
       "      <td>0.619859</td>\n",
       "      <td>0.517501</td>\n",
       "      <td>0.626247</td>\n",
       "      <td>...</td>\n",
       "      <td>0.729783</td>\n",
       "      <td>0.889003</td>\n",
       "      <td>0.781900</td>\n",
       "      <td>0.853871</td>\n",
       "      <td>0.763474</td>\n",
       "      <td>0.806643</td>\n",
       "      <td>0.812826</td>\n",
       "      <td>0.792238</td>\n",
       "      <td>0.797374</td>\n",
       "      <td>clean_data/TEST_TRAIN/downdog/00000158.jpg</td>\n",
       "    </tr>\n",
       "  </tbody>\n",
       "</table>\n",
       "<p>3 rows × 67 columns</p>\n",
       "</div>"
      ],
      "text/plain": [
       "     lmk0_x    lmk0_y    lmk1_x    lmk1_y    lmk2_x    lmk2_y    lmk3_x  \\\n",
       "0  0.385088  0.702528  0.364045  0.705285  0.361666  0.700772  0.359247   \n",
       "1  0.715758  0.547609  0.729912  0.527488  0.729571  0.523913  0.728997   \n",
       "2  0.530292  0.608646  0.514618  0.623104  0.510664  0.621608  0.506621   \n",
       "\n",
       "     lmk3_y    lmk4_x    lmk4_y  ...   lmk28_y   lmk29_x   lmk29_y   lmk30_x  \\\n",
       "0  0.696249  0.364545  0.705934  ...  0.768468  0.898328  0.851075  0.870051   \n",
       "1  0.520017  0.728891  0.527579  ...  0.664694  0.307465  0.655862  0.261937   \n",
       "2  0.619859  0.517501  0.626247  ...  0.729783  0.889003  0.781900  0.853871   \n",
       "\n",
       "    lmk30_y   lmk31_x   lmk31_y   lmk32_x   lmk32_y  \\\n",
       "0  0.811650  0.781881  0.930616  0.763475  0.904605   \n",
       "1  0.680302  0.380548  0.670513  0.336641  0.713165   \n",
       "2  0.763474  0.806643  0.812826  0.792238  0.797374   \n",
       "\n",
       "                                    file_name  \n",
       "0  clean_data/TEST_TRAIN/downdog/00000372.jpg  \n",
       "1  clean_data/TEST_TRAIN/downdog/00000414.jpg  \n",
       "2  clean_data/TEST_TRAIN/downdog/00000158.jpg  \n",
       "\n",
       "[3 rows x 67 columns]"
      ]
     },
     "execution_count": 4,
     "metadata": {},
     "output_type": "execute_result"
    }
   ],
   "source": [
    "df = pd.read_csv(\"raw_kp_data.csv\")\n",
    "df = df.drop(df.columns[0], axis=1)\n",
    "columns = []\n",
    "for lmk in [f\"lmk{x}\" for x in range(33)]:\n",
    "    for each in [\"x\", \"y\"]:\n",
    "        columns.append(f\"{lmk}_{each}\")\n",
    "columns.append(\"file_name\")\n",
    "\n",
    "df = df.rename(columns=dict(zip(df.columns, columns)))\n",
    "df.head(3)"
   ]
  },
  {
   "cell_type": "code",
   "execution_count": 5,
   "metadata": {},
   "outputs": [],
   "source": [
    "# Create df_X and df_y from df\n",
    "\n",
    "df[\"pose\"] = df[\"file_name\"].apply(lambda x: x.split(\"/\")[2])\n",
    "df[\"pose\"] = df[\"pose\"].astype(\"category\")\n",
    "df_X = df.drop(columns=[\"pose\", \"file_name\"])\n",
    "df_y = df[\"pose\"]"
   ]
  },
  {
   "cell_type": "markdown",
   "metadata": {},
   "source": [
    "# Preprocessing Pipeline"
   ]
  },
  {
   "cell_type": "markdown",
   "metadata": {},
   "source": [
    "1. Drop landmarks 1, 3, 4, 6\n",
    "2. Scale"
   ]
  },
  {
   "cell_type": "code",
   "execution_count": 6,
   "metadata": {},
   "outputs": [],
   "source": [
    "# lmk_to_drop = [1, 3, 4, 6]\n",
    "# cols_to_drop = []\n",
    "# for lmk in lmk_to_drop:\n",
    "#     for each in [\"x\", \"y\"]:\n",
    "#         cols_to_drop.append(f\"lmk{str(lmk)}_{each}\")\n",
    "\n",
    "# x\n",
    "cols_to_drop = [2,3,6,7,8,9,12,13]\n",
    "cols_to_scale = [_ for _ in range(0,56)]\n",
    "\n",
    "transformers = [\n",
    "    (\"drop\", \"drop\", cols_to_drop),\n",
    "    (\"scale\", StandardScaler(), cols_to_scale)\n",
    "]\n",
    "\n",
    "column_transformer = ColumnTransformer(transformers=transformers, remainder=\"passthrough\")\n",
    "\n",
    "pipeline = make_pipeline(\n",
    "    column_transformer\n",
    ")\n",
    "\n",
    "X = pipeline.fit_transform(np.array(df_X))\n",
    "\n",
    "# y\n",
    "label_encoder = LabelEncoder()\n",
    "y_encoded = label_encoder.fit_transform(df_y)\n",
    "y_ohe = tf.keras.utils.to_categorical(y_encoded)\n"
   ]
  },
  {
   "cell_type": "code",
   "execution_count": 7,
   "metadata": {},
   "outputs": [
    {
     "data": {
      "text/plain": [
       "array(['downdog', 'goddess', 'plank', 'tree_chest', 'tree_up',\n",
       "       'warrior2_left', 'warrior2_right'], dtype=object)"
      ]
     },
     "execution_count": 7,
     "metadata": {},
     "output_type": "execute_result"
    }
   ],
   "source": [
    "label_encoder.classes_"
   ]
  },
  {
   "cell_type": "markdown",
   "metadata": {},
   "source": [
    "### Simple NN"
   ]
  },
  {
   "cell_type": "code",
   "execution_count": 8,
   "metadata": {},
   "outputs": [],
   "source": [
    "import tensorflow as tf\n",
    "from sklearn.model_selection import train_test_split"
   ]
  },
  {
   "cell_type": "code",
   "execution_count": 9,
   "metadata": {},
   "outputs": [],
   "source": [
    "X = pipeline.fit_transform(df_X)\n",
    "y = y_ohe\n",
    "y_cat = pd.array(df_y)\n",
    "X_train, X_val, y_train, y_val = train_test_split(X, y, test_size=0.2)"
   ]
  },
  {
   "cell_type": "code",
   "execution_count": 10,
   "metadata": {},
   "outputs": [
    {
     "data": {
      "text/html": [
       "<pre style=\"white-space:pre;overflow-x:auto;line-height:normal;font-family:Menlo,'DejaVu Sans Mono',consolas,'Courier New',monospace\"><span style=\"font-weight: bold\">Model: \"sequential\"</span>\n",
       "</pre>\n"
      ],
      "text/plain": [
       "\u001b[1mModel: \"sequential\"\u001b[0m\n"
      ]
     },
     "metadata": {},
     "output_type": "display_data"
    },
    {
     "data": {
      "text/html": [
       "<pre style=\"white-space:pre;overflow-x:auto;line-height:normal;font-family:Menlo,'DejaVu Sans Mono',consolas,'Courier New',monospace\">┏━━━━━━━━━━━━━━━━━━━━━━━━━━━━━━━━━┳━━━━━━━━━━━━━━━━━━━━━━━━┳━━━━━━━━━━━━━━━┓\n",
       "┃<span style=\"font-weight: bold\"> Layer (type)                    </span>┃<span style=\"font-weight: bold\"> Output Shape           </span>┃<span style=\"font-weight: bold\">       Param # </span>┃\n",
       "┡━━━━━━━━━━━━━━━━━━━━━━━━━━━━━━━━━╇━━━━━━━━━━━━━━━━━━━━━━━━╇━━━━━━━━━━━━━━━┩\n",
       "│ dense (<span style=\"color: #0087ff; text-decoration-color: #0087ff\">Dense</span>)                   │ (<span style=\"color: #00d7ff; text-decoration-color: #00d7ff\">None</span>, <span style=\"color: #00af00; text-decoration-color: #00af00\">128</span>)            │         <span style=\"color: #00af00; text-decoration-color: #00af00\">8,576</span> │\n",
       "├─────────────────────────────────┼────────────────────────┼───────────────┤\n",
       "│ dense_1 (<span style=\"color: #0087ff; text-decoration-color: #0087ff\">Dense</span>)                 │ (<span style=\"color: #00d7ff; text-decoration-color: #00d7ff\">None</span>, <span style=\"color: #00af00; text-decoration-color: #00af00\">64</span>)             │         <span style=\"color: #00af00; text-decoration-color: #00af00\">8,256</span> │\n",
       "├─────────────────────────────────┼────────────────────────┼───────────────┤\n",
       "│ dense_2 (<span style=\"color: #0087ff; text-decoration-color: #0087ff\">Dense</span>)                 │ (<span style=\"color: #00d7ff; text-decoration-color: #00d7ff\">None</span>, <span style=\"color: #00af00; text-decoration-color: #00af00\">32</span>)             │         <span style=\"color: #00af00; text-decoration-color: #00af00\">2,080</span> │\n",
       "├─────────────────────────────────┼────────────────────────┼───────────────┤\n",
       "│ dense_3 (<span style=\"color: #0087ff; text-decoration-color: #0087ff\">Dense</span>)                 │ (<span style=\"color: #00d7ff; text-decoration-color: #00d7ff\">None</span>, <span style=\"color: #00af00; text-decoration-color: #00af00\">7</span>)              │           <span style=\"color: #00af00; text-decoration-color: #00af00\">231</span> │\n",
       "└─────────────────────────────────┴────────────────────────┴───────────────┘\n",
       "</pre>\n"
      ],
      "text/plain": [
       "┏━━━━━━━━━━━━━━━━━━━━━━━━━━━━━━━━━┳━━━━━━━━━━━━━━━━━━━━━━━━┳━━━━━━━━━━━━━━━┓\n",
       "┃\u001b[1m \u001b[0m\u001b[1mLayer (type)                   \u001b[0m\u001b[1m \u001b[0m┃\u001b[1m \u001b[0m\u001b[1mOutput Shape          \u001b[0m\u001b[1m \u001b[0m┃\u001b[1m \u001b[0m\u001b[1m      Param #\u001b[0m\u001b[1m \u001b[0m┃\n",
       "┡━━━━━━━━━━━━━━━━━━━━━━━━━━━━━━━━━╇━━━━━━━━━━━━━━━━━━━━━━━━╇━━━━━━━━━━━━━━━┩\n",
       "│ dense (\u001b[38;5;33mDense\u001b[0m)                   │ (\u001b[38;5;45mNone\u001b[0m, \u001b[38;5;34m128\u001b[0m)            │         \u001b[38;5;34m8,576\u001b[0m │\n",
       "├─────────────────────────────────┼────────────────────────┼───────────────┤\n",
       "│ dense_1 (\u001b[38;5;33mDense\u001b[0m)                 │ (\u001b[38;5;45mNone\u001b[0m, \u001b[38;5;34m64\u001b[0m)             │         \u001b[38;5;34m8,256\u001b[0m │\n",
       "├─────────────────────────────────┼────────────────────────┼───────────────┤\n",
       "│ dense_2 (\u001b[38;5;33mDense\u001b[0m)                 │ (\u001b[38;5;45mNone\u001b[0m, \u001b[38;5;34m32\u001b[0m)             │         \u001b[38;5;34m2,080\u001b[0m │\n",
       "├─────────────────────────────────┼────────────────────────┼───────────────┤\n",
       "│ dense_3 (\u001b[38;5;33mDense\u001b[0m)                 │ (\u001b[38;5;45mNone\u001b[0m, \u001b[38;5;34m7\u001b[0m)              │           \u001b[38;5;34m231\u001b[0m │\n",
       "└─────────────────────────────────┴────────────────────────┴───────────────┘\n"
      ]
     },
     "metadata": {},
     "output_type": "display_data"
    },
    {
     "data": {
      "text/html": [
       "<pre style=\"white-space:pre;overflow-x:auto;line-height:normal;font-family:Menlo,'DejaVu Sans Mono',consolas,'Courier New',monospace\"><span style=\"font-weight: bold\"> Total params: </span><span style=\"color: #00af00; text-decoration-color: #00af00\">19,143</span> (74.78 KB)\n",
       "</pre>\n"
      ],
      "text/plain": [
       "\u001b[1m Total params: \u001b[0m\u001b[38;5;34m19,143\u001b[0m (74.78 KB)\n"
      ]
     },
     "metadata": {},
     "output_type": "display_data"
    },
    {
     "data": {
      "text/html": [
       "<pre style=\"white-space:pre;overflow-x:auto;line-height:normal;font-family:Menlo,'DejaVu Sans Mono',consolas,'Courier New',monospace\"><span style=\"font-weight: bold\"> Trainable params: </span><span style=\"color: #00af00; text-decoration-color: #00af00\">19,143</span> (74.78 KB)\n",
       "</pre>\n"
      ],
      "text/plain": [
       "\u001b[1m Trainable params: \u001b[0m\u001b[38;5;34m19,143\u001b[0m (74.78 KB)\n"
      ]
     },
     "metadata": {},
     "output_type": "display_data"
    },
    {
     "data": {
      "text/html": [
       "<pre style=\"white-space:pre;overflow-x:auto;line-height:normal;font-family:Menlo,'DejaVu Sans Mono',consolas,'Courier New',monospace\"><span style=\"font-weight: bold\"> Non-trainable params: </span><span style=\"color: #00af00; text-decoration-color: #00af00\">0</span> (0.00 B)\n",
       "</pre>\n"
      ],
      "text/plain": [
       "\u001b[1m Non-trainable params: \u001b[0m\u001b[38;5;34m0\u001b[0m (0.00 B)\n"
      ]
     },
     "metadata": {},
     "output_type": "display_data"
    }
   ],
   "source": [
    "model = tf.keras.Sequential()\n",
    "\n",
    "model.add(tf.keras.layers.Input(shape=[X_train.shape[1]]))\n",
    "model.add(tf.keras.layers.Dense(128, activation=\"relu\"))\n",
    "model.add(tf.keras.layers.Dense(64, activation=\"relu\"))\n",
    "model.add(tf.keras.layers.Dense(32, activation=\"relu\"))\n",
    "model.add(tf.keras.layers.Dense(len(poses), activation=\"softmax\"))\n",
    "\n",
    "model.compile(loss='categorical_crossentropy',\n",
    "                optimizer='adam',\n",
    "                metrics=['accuracy'])\n",
    "\n",
    "model.summary()"
   ]
  },
  {
   "cell_type": "code",
   "execution_count": 11,
   "metadata": {},
   "outputs": [
    {
     "name": "stdout",
     "output_type": "stream",
     "text": [
      "Epoch 1/30\n"
     ]
    }
   ],
   "source": [
    "history2 = model.fit(X_train, y_train, epochs=30, validation_data=(X_val, y_val),\n",
    "                     verbose=True)"
   ]
  },
  {
   "cell_type": "code",
   "execution_count": 210,
   "metadata": {},
   "outputs": [
    {
     "data": {
      "image/png": "[encoded data removed]",
      "text/plain": [
       "<Figure size 1200x400 with 2 Axes>"
      ]
     },
     "metadata": {},
     "output_type": "display_data"
    }
   ],
   "source": [
    "def plot_history(history):\n",
    "    plt.figure(figsize=(12, 4))\n",
    "\n",
    "    plt.subplot(1, 2, 1)\n",
    "    plt.plot(history.history['loss'], label='Train Loss')\n",
    "    plt.plot(history.history['val_loss'], label='Validation Loss')\n",
    "    plt.title('Model Loss')\n",
    "    plt.ylabel('Loss')\n",
    "    plt.xlabel('Epoch')\n",
    "    plt.legend()\n",
    "\n",
    "    plt.subplot(1, 2, 2)\n",
    "    plt.plot(history.history['accuracy'], label='Train Accuracy')\n",
    "    plt.plot(history.history['val_accuracy'], label='Validation Accuracy')\n",
    "    plt.title('Model Accuracy')\n",
    "    plt.ylabel('Accuracy')\n",
    "    plt.xlabel('Epoch')\n",
    "    plt.legend()\n",
    "\n",
    "    plt.tight_layout()\n",
    "    plt.show()\n",
    "\n",
    "plot_history(history2)"
   ]
  },
  {
   "cell_type": "code",
   "execution_count": 211,
   "metadata": {},
   "outputs": [
    {
     "name": "stderr",
     "output_type": "stream",
     "text": [
      "/Users/homemasaki/.pyenv/versions/3.10.6/envs/yoga-pose-detector/lib/python3.10/site-packages/keras/src/engine/training.py:3103: UserWarning: You are saving your model as an HDF5 file via `model.save()`. This file format is considered legacy. We recommend using instead the native Keras format, e.g. `model.save('my_model.keras')`.\n",
      "  saving_api.save_model(\n"
     ]
    },
    {
     "data": {
      "text/plain": [
       "['pipeline.pkl']"
      ]
     },
     "execution_count": 211,
     "metadata": {},
     "output_type": "execute_result"
    }
   ],
   "source": [
    "model.save(\"nn_v1.h5\")\n",
    "dump(pipeline, \"pipeline.pkl\")"
   ]
  },
  {
   "cell_type": "code",
   "execution_count": 214,
   "metadata": {},
   "outputs": [
    {
     "data": {
      "text/plain": [
       "66"
      ]
     },
     "execution_count": 214,
     "metadata": {},
     "output_type": "execute_result"
    }
   ],
   "source": [
    "test_x = [0.7785290479660034, 0.4832121431827545, 0.7830552458763123, 0.4151889681816101, 0.7889384031295776, 0.41501256823539734, 0.7940126657485962, 0.4139469265937805, 0.756016194820404, 0.406649112701416, 0.738251805305481, 0.40033650398254395, 0.7211233973503113, 0.3947894275188446, 0.7651284337043762, 0.42292752861976624, 0.6652698516845703, 0.4063374698162079, 0.7728575468063354, 0.5575770735740662, 0.7384786009788513, 0.5552400350570679, 0.791469931602478, 0.80889493227005, 0.49392086267471313, 0.6987708210945129, 0.8370208740234375, 1.2483820915222168, 0.4829091429710388, 1.1308434009552002, 0.8286651372909546, 1.5521538257598877, 0.7084714770317078, 1.228020191192627, 0.8400972485542297, 1.6683650016784668, 0.7544735670089722, 1.3026577234268188, 0.8199907541275024, 1.6486468315124512, 0.771265983581543, 1.2606130838394165, 0.8103811144828796, 1.60910964012146, 0.7422195076942444, 1.0721982717514038, 0.7138510942459106, 1.6696432828903198, 0.5159143805503845, 1.6859114170074463, 0.7002948522567749, 2.398073673248291, 0.502536416053772, 2.411130666732788, 0.677778422832489, 3.0748956203460693, 0.4849456250667572, 3.098097085952759, 0.6624965071678162, 3.176849365234375, 0.45107030868530273, 3.2099833488464355, 0.7144500017166138, 3.2675459384918213, 0.5675069689750671, 3.2661046981811523]\n",
    "len(test_x)"
   ]
  },
  {
   "cell_type": "code",
   "execution_count": 215,
   "metadata": {},
   "outputs": [
    {
     "data": {
      "text/plain": [
       "array([0.77852905, 0.48321214, 0.78305525, 0.41518897, 0.7889384 ,\n",
       "       0.41501257, 0.79401267, 0.41394693, 0.75601619, 0.40664911,\n",
       "       0.73825181, 0.4003365 , 0.7211234 , 0.39478943, 0.76512843,\n",
       "       0.42292753, 0.66526985, 0.40633747, 0.77285755, 0.55757707,\n",
       "       0.7384786 , 0.55524004, 0.79146993, 0.80889493, 0.49392086,\n",
       "       0.69877082, 0.83702087, 1.24838209, 0.48290914, 1.1308434 ,\n",
       "       0.82866514, 1.55215383, 0.70847148, 1.22802019, 0.84009725,\n",
       "       1.668365  , 0.75447357, 1.30265772, 0.81999075, 1.64864683,\n",
       "       0.77126598, 1.26061308, 0.81038111, 1.60910964, 0.74221951,\n",
       "       1.07219827, 0.71385109, 1.66964328, 0.51591438, 1.68591142,\n",
       "       0.70029485, 2.39807367, 0.50253642, 2.41113067, 0.67777842,\n",
       "       3.07489562, 0.48494563, 3.09809709, 0.66249651, 3.17684937,\n",
       "       0.45107031, 3.20998335, 0.71445   , 3.26754594, 0.56750697,\n",
       "       3.2661047 ])"
      ]
     },
     "execution_count": 215,
     "metadata": {},
     "output_type": "execute_result"
    }
   ],
   "source": [
    "np.array(test_x)"
   ]
  },
  {
   "cell_type": "code",
   "execution_count": 221,
   "metadata": {},
   "outputs": [
    {
     "name": "stdout",
     "output_type": "stream",
     "text": [
      "1/1 [==============================] - 0s 21ms/step\n"
     ]
    },
    {
     "data": {
      "text/plain": [
       "5"
      ]
     },
     "execution_count": 221,
     "metadata": {},
     "output_type": "execute_result"
    }
   ],
   "source": [
    "test_x_scaled = pipeline.transform(np.array([test_x]))\n"
   ]
  },
  {
   "cell_type": "code",
   "execution_count": 5,
   "metadata": {},
   "outputs": [
    {
     "ename": "KeyError",
     "evalue": "72",
     "output_type": "error",
     "traceback": [
      "\u001b[0;31m---------------------------------------------------------------------------\u001b[0m",
      "\u001b[0;31mKeyError\u001b[0m                                  Traceback (most recent call last)",
      "Cell \u001b[0;32mIn[5], line 1\u001b[0m\n\u001b[0;32m----> 1\u001b[0m \u001b[43mload\u001b[49m\u001b[43m(\u001b[49m\u001b[38;5;124;43m\"\u001b[39;49m\u001b[38;5;124;43mmodels/nn_v1.h5\u001b[39;49m\u001b[38;5;124;43m\"\u001b[39;49m\u001b[43m)\u001b[49m\n",
      "File \u001b[0;32m~/.pyenv/versions/3.10.6/envs/dream/lib/python3.10/site-packages/joblib/numpy_pickle.py:658\u001b[0m, in \u001b[0;36mload\u001b[0;34m(filename, mmap_mode)\u001b[0m\n\u001b[1;32m    652\u001b[0m             \u001b[38;5;28;01mif\u001b[39;00m \u001b[38;5;28misinstance\u001b[39m(fobj, \u001b[38;5;28mstr\u001b[39m):\n\u001b[1;32m    653\u001b[0m                 \u001b[38;5;66;03m# if the returned file object is a string, this means we\u001b[39;00m\n\u001b[1;32m    654\u001b[0m                 \u001b[38;5;66;03m# try to load a pickle file generated with an version of\u001b[39;00m\n\u001b[1;32m    655\u001b[0m                 \u001b[38;5;66;03m# Joblib so we load it with joblib compatibility function.\u001b[39;00m\n\u001b[1;32m    656\u001b[0m                 \u001b[38;5;28;01mreturn\u001b[39;00m load_compatibility(fobj)\n\u001b[0;32m--> 658\u001b[0m             obj \u001b[38;5;241m=\u001b[39m \u001b[43m_unpickle\u001b[49m\u001b[43m(\u001b[49m\u001b[43mfobj\u001b[49m\u001b[43m,\u001b[49m\u001b[43m \u001b[49m\u001b[43mfilename\u001b[49m\u001b[43m,\u001b[49m\u001b[43m \u001b[49m\u001b[43mmmap_mode\u001b[49m\u001b[43m)\u001b[49m\n\u001b[1;32m    659\u001b[0m \u001b[38;5;28;01mreturn\u001b[39;00m obj\n",
      "File \u001b[0;32m~/.pyenv/versions/3.10.6/envs/dream/lib/python3.10/site-packages/joblib/numpy_pickle.py:577\u001b[0m, in \u001b[0;36m_unpickle\u001b[0;34m(fobj, filename, mmap_mode)\u001b[0m\n\u001b[1;32m    575\u001b[0m obj \u001b[38;5;241m=\u001b[39m \u001b[38;5;28;01mNone\u001b[39;00m\n\u001b[1;32m    576\u001b[0m \u001b[38;5;28;01mtry\u001b[39;00m:\n\u001b[0;32m--> 577\u001b[0m     obj \u001b[38;5;241m=\u001b[39m \u001b[43munpickler\u001b[49m\u001b[38;5;241;43m.\u001b[39;49m\u001b[43mload\u001b[49m\u001b[43m(\u001b[49m\u001b[43m)\u001b[49m\n\u001b[1;32m    578\u001b[0m     \u001b[38;5;28;01mif\u001b[39;00m unpickler\u001b[38;5;241m.\u001b[39mcompat_mode:\n\u001b[1;32m    579\u001b[0m         warnings\u001b[38;5;241m.\u001b[39mwarn(\u001b[38;5;124m\"\u001b[39m\u001b[38;5;124mThe file \u001b[39m\u001b[38;5;124m'\u001b[39m\u001b[38;5;132;01m%s\u001b[39;00m\u001b[38;5;124m'\u001b[39m\u001b[38;5;124m has been generated with a \u001b[39m\u001b[38;5;124m\"\u001b[39m\n\u001b[1;32m    580\u001b[0m                       \u001b[38;5;124m\"\u001b[39m\u001b[38;5;124mjoblib version less than 0.10. \u001b[39m\u001b[38;5;124m\"\u001b[39m\n\u001b[1;32m    581\u001b[0m                       \u001b[38;5;124m\"\u001b[39m\u001b[38;5;124mPlease regenerate this pickle file.\u001b[39m\u001b[38;5;124m\"\u001b[39m\n\u001b[1;32m    582\u001b[0m                       \u001b[38;5;241m%\u001b[39m filename,\n\u001b[1;32m    583\u001b[0m                       \u001b[38;5;167;01mDeprecationWarning\u001b[39;00m, stacklevel\u001b[38;5;241m=\u001b[39m\u001b[38;5;241m3\u001b[39m)\n",
      "File \u001b[0;32m~/.pyenv/versions/3.10.6/lib/python3.10/pickle.py:1213\u001b[0m, in \u001b[0;36m_Unpickler.load\u001b[0;34m(self)\u001b[0m\n\u001b[1;32m   1211\u001b[0m             \u001b[38;5;28;01mraise\u001b[39;00m \u001b[38;5;167;01mEOFError\u001b[39;00m\n\u001b[1;32m   1212\u001b[0m         \u001b[38;5;28;01massert\u001b[39;00m \u001b[38;5;28misinstance\u001b[39m(key, bytes_types)\n\u001b[0;32m-> 1213\u001b[0m         \u001b[43mdispatch\u001b[49m\u001b[43m[\u001b[49m\u001b[43mkey\u001b[49m\u001b[43m[\u001b[49m\u001b[38;5;241;43m0\u001b[39;49m\u001b[43m]\u001b[49m\u001b[43m]\u001b[49m(\u001b[38;5;28mself\u001b[39m)\n\u001b[1;32m   1214\u001b[0m \u001b[38;5;28;01mexcept\u001b[39;00m _Stop \u001b[38;5;28;01mas\u001b[39;00m stopinst:\n\u001b[1;32m   1215\u001b[0m     \u001b[38;5;28;01mreturn\u001b[39;00m stopinst\u001b[38;5;241m.\u001b[39mvalue\n",
      "\u001b[0;31mKeyError\u001b[0m: 72"
     ]
    }
   ],
   "source": [
    "load(\"models/nn_v1.h5\")"
   ]
  },
  {
   "cell_type": "code",
   "execution_count": null,
   "metadata": {},
   "outputs": [],
   "source": []
  }
 ],
 "metadata": {
  "kernelspec": {
   "display_name": "yoga-pose-detector",
   "language": "python",
   "name": "python3"
  },
  "language_info": {
   "codemirror_mode": {
    "name": "ipython",
    "version": 3
   },
   "file_extension": ".py",
   "mimetype": "text/x-python",
   "name": "python",
   "nbconvert_exporter": "python",
   "pygments_lexer": "ipython3",
   "version": "3.10.6"
  }
 },
 "nbformat": 4,
 "nbformat_minor": 2
}
