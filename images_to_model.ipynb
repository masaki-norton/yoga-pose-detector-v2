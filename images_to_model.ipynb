{
 "cells": [
  {
   "cell_type": "markdown",
   "metadata": {},
   "source": [
    "# Imports"
   ]
  },
  {
   "cell_type": "code",
   "execution_count": 1,
   "metadata": {},
   "outputs": [
    {
     "name": "stderr",
     "output_type": "stream",
     "text": [
      "2024-05-28 14:38:39.885648: I tensorflow/core/platform/cpu_feature_guard.cc:193] This TensorFlow binary is optimized with oneAPI Deep Neural Network Library (oneDNN) to use the following CPU instructions in performance-critical operations:  AVX2 FMA\n",
      "To enable them in other operations, rebuild TensorFlow with the appropriate compiler flags.\n"
     ]
    }
   ],
   "source": [
    "import glob\n",
    "import os\n",
    "import numpy as np\n",
    "import pandas as pd\n",
    "import cv2\n",
    "import mediapipe as mp\n",
    "from get_landmarks import get_landmarks\n",
    "import matplotlib.pyplot as plt\n",
    "from tqdm import tqdm\n",
    "\n",
    "from sklearn.preprocessing import StandardScaler\n",
    "from sklearn.preprocessing import LabelEncoder\n",
    "from joblib import dump, load\n",
    "\n",
    "from sklearn.pipeline import make_pipeline\n",
    "from sklearn.compose import ColumnTransformer\n",
    "\n",
    "import tensorflow as tf\n",
    "from sklearn.model_selection import train_test_split"
   ]
  },
  {
   "cell_type": "markdown",
   "metadata": {},
   "source": [
    "# Data Extraction"
   ]
  },
  {
   "cell_type": "code",
   "execution_count": 2,
   "metadata": {},
   "outputs": [
    {
     "name": "stdout",
     "output_type": "stream",
     "text": [
      "absl-py==2.1.0\n",
      "altair==5.3.0\n",
      "annotated-types==0.7.0\n",
      "anyio==4.3.0\n",
      "appnope==0.1.4\n",
      "asttokens==2.4.1\n",
      "astunparse==1.6.3\n",
      "attrs==23.2.0\n",
      "beautifulsoup4==4.12.3\n",
      "blinker==1.8.2\n",
      "cachetools==5.3.3\n",
      "certifi==2024.2.2\n",
      "cffi==1.16.0\n",
      "charset-normalizer==3.3.2\n",
      "click==8.1.7\n",
      "comm==0.2.2\n",
      "contourpy==1.2.1\n",
      "cycler==0.12.1\n",
      "debugpy==1.8.1\n",
      "decorator==5.1.1\n",
      "distro==1.9.0\n",
      "easyocr==1.7.1\n",
      "exceptiongroup==1.2.0\n",
      "executing==2.0.1\n",
      "filelock==3.13.4\n",
      "fire==0.6.0\n",
      "flatbuffers==24.3.25\n",
      "fonttools==4.50.0\n",
      "fsspec==2024.3.1\n",
      "fugashi==1.3.2\n",
      "gast==0.4.0\n",
      "gitdb==4.0.11\n",
      "GitPython==3.1.43\n",
      "google-auth==2.29.0\n",
      "google-auth-oauthlib==0.4.6\n",
      "google-pasta==0.2.0\n",
      "grpcio==1.63.0\n",
      "h11==0.14.0\n",
      "h5py==3.11.0\n",
      "httpcore==1.0.5\n",
      "httpx==0.27.0\n",
      "huggingface-hub==0.22.2\n",
      "idna==3.7\n",
      "imageio==2.34.0\n",
      "importlib_metadata==7.1.0\n",
      "ipykernel==6.29.4\n",
      "ipython==8.23.0\n",
      "jaconv==0.3.4\n",
      "jax==0.4.28\n",
      "jaxlib==0.4.28\n",
      "jedi==0.19.1\n",
      "Jinja2==3.1.3\n",
      "joblib==1.1.1\n",
      "jsonschema==4.22.0\n",
      "jsonschema-specifications==2023.12.1\n",
      "jupyter_client==8.6.1\n",
      "jupyter_core==5.7.2\n",
      "keras==2.10.0\n",
      "Keras-Preprocessing==1.1.2\n",
      "kiwisolver==1.4.5\n",
      "lazy_loader==0.4\n",
      "libclang==18.1.1\n",
      "loguru==0.7.2\n",
      "manga-ocr==0.1.11\n",
      "Markdown==3.6\n",
      "markdown-it-py==3.0.0\n",
      "MarkupSafe==2.1.5\n",
      "matplotlib==3.8.4\n",
      "matplotlib-inline==0.1.6\n",
      "mdurl==0.1.2\n",
      "mediapipe==0.10.8\n",
      "ml-dtypes==0.3.2\n",
      "mlxtend==0.23.1\n",
      "mpmath==1.3.0\n",
      "namex==0.0.8\n",
      "nest-asyncio==1.6.0\n",
      "networkx==3.3\n",
      "ninja==1.11.1.1\n",
      "numpy==1.23.4\n",
      "oauthlib==3.2.2\n",
      "openai==1.30.1\n",
      "opencv-contrib-python==4.9.0.80\n",
      "opencv-python-headless==4.9.0.80\n",
      "openvino==2024.1.0\n",
      "openvino-telemetry==2024.1.0\n",
      "opt-einsum==3.3.0\n",
      "optree==0.11.0\n",
      "packaging==24.0\n",
      "pandas==2.2.1\n",
      "parso==0.8.3\n",
      "pexpect==4.9.0\n",
      "pillow==10.3.0\n",
      "platformdirs==4.2.0\n",
      "prompt-toolkit==3.0.43\n",
      "protobuf==3.19.5\n",
      "psutil==5.9.8\n",
      "ptyprocess==0.7.0\n",
      "pure-eval==0.2.2\n",
      "pyarrow==16.1.0\n",
      "pyasn1==0.6.0\n",
      "pyasn1_modules==0.4.0\n",
      "pyclipper==1.3.0.post5\n",
      "pycparser==2.22\n",
      "pydantic==2.7.1\n",
      "pydantic_core==2.18.2\n",
      "pydeck==0.9.1\n",
      "Pygments==2.17.2\n",
      "Pympler==1.0.1\n",
      "pyparsing==3.1.2\n",
      "pyperclip==1.8.2\n",
      "python-bidi==0.4.2\n",
      "python-dateutil==2.9.0.post0\n",
      "pytz==2024.1\n",
      "PyYAML==6.0.1\n",
      "pyzmq==25.1.2\n",
      "referencing==0.35.1\n",
      "regex==2023.12.25\n",
      "requests==2.31.0\n",
      "requests-oauthlib==2.0.0\n",
      "rich==13.7.1\n",
      "rpds-py==0.18.1\n",
      "rsa==4.9\n",
      "safetensors==0.4.3\n",
      "scikit-image==0.23.1\n",
      "scikit-learn==1.3.2\n",
      "scipy==1.13.0\n",
      "semver==3.0.2\n",
      "shapely==2.0.3\n",
      "six==1.16.0\n",
      "smmap==5.0.1\n",
      "sniffio==1.3.1\n",
      "sounddevice==0.4.6\n",
      "soupsieve==2.5\n",
      "stack-data==0.6.3\n",
      "streamlit==1.11.1\n",
      "sympy==1.12\n",
      "tenacity==8.3.0\n",
      "tensorboard==2.10.1\n",
      "tensorboard-data-server==0.6.1\n",
      "tensorboard-plugin-wit==1.8.1\n",
      "tensorflow==2.10.0\n",
      "tensorflow-estimator==2.10.0\n",
      "tensorflow-io-gcs-filesystem==0.37.0\n",
      "termcolor==2.4.0\n",
      "threadpoolctl==3.4.0\n",
      "tifffile==2024.2.12\n",
      "tokenizers==0.15.2\n",
      "toml==0.10.2\n",
      "toolz==0.12.1\n",
      "torch==2.2.2\n",
      "torchvision==0.17.2\n",
      "tornado==6.4\n",
      "tqdm==4.66.2\n",
      "traitlets==5.14.2\n",
      "transformers==4.39.3\n",
      "typing_extensions==4.10.0\n",
      "tzdata==2024.1\n",
      "tzlocal==5.2\n",
      "unidic-lite==1.0.8\n",
      "urllib3==2.2.1\n",
      "validators==0.28.3\n",
      "wcwidth==0.2.13\n",
      "Werkzeug==3.0.3\n",
      "wrapt==1.16.0\n",
      "zipp==3.19.0\n"
     ]
    }
   ],
   "source": [
    "!pip freeze"
   ]
  },
  {
   "cell_type": "code",
   "execution_count": 3,
   "metadata": {},
   "outputs": [],
   "source": [
    "path = \"clean_data/TEST_TRAIN/\"\n",
    "poses = [os.path.basename(d) for d in glob.glob(\"clean_data/TEST_TRAIN/*\")]\n",
    "\n",
    "all_imgs_path = []\n",
    "for pose in poses:\n",
    "    curr_path = path + pose + \"/\"\n",
    "    all_imgs_path += (glob.glob(f\"{curr_path}*\"))"
   ]
  },
  {
   "cell_type": "code",
   "execution_count": null,
   "metadata": {},
   "outputs": [],
   "source": [
    "# # Do Not Run unless necessary!\n",
    "# data = []\n",
    "# for path in tqdm(all_imgs_path, desc=\"Processing Images...\"):\n",
    "#     landmarks = get_landmarks(cv2.imread(path))\n",
    "#     landmarks.append(path)\n",
    "#     data.append(landmarks)\n",
    "\n",
    "# df = pd.DataFrame(data)\n",
    "\n",
    "# df.to_csv(\"raw_kp_data.csv\")"
   ]
  },
  {
   "cell_type": "code",
   "execution_count": 4,
   "metadata": {},
   "outputs": [
    {
     "data": {
      "text/html": [
       "<div>\n",
       "<style scoped>\n",
       "    .dataframe tbody tr th:only-of-type {\n",
       "        vertical-align: middle;\n",
       "    }\n",
       "\n",
       "    .dataframe tbody tr th {\n",
       "        vertical-align: top;\n",
       "    }\n",
       "\n",
       "    .dataframe thead th {\n",
       "        text-align: right;\n",
       "    }\n",
       "</style>\n",
       "<table border=\"1\" class=\"dataframe\">\n",
       "  <thead>\n",
       "    <tr style=\"text-align: right;\">\n",
       "      <th></th>\n",
       "      <th>lmk0_x</th>\n",
       "      <th>lmk0_y</th>\n",
       "      <th>lmk1_x</th>\n",
       "      <th>lmk1_y</th>\n",
       "      <th>lmk2_x</th>\n",
       "      <th>lmk2_y</th>\n",
       "      <th>lmk3_x</th>\n",
       "      <th>lmk3_y</th>\n",
       "      <th>lmk4_x</th>\n",
       "      <th>lmk4_y</th>\n",
       "      <th>...</th>\n",
       "      <th>lmk28_y</th>\n",
       "      <th>lmk29_x</th>\n",
       "      <th>lmk29_y</th>\n",
       "      <th>lmk30_x</th>\n",
       "      <th>lmk30_y</th>\n",
       "      <th>lmk31_x</th>\n",
       "      <th>lmk31_y</th>\n",
       "      <th>lmk32_x</th>\n",
       "      <th>lmk32_y</th>\n",
       "      <th>file_name</th>\n",
       "    </tr>\n",
       "  </thead>\n",
       "  <tbody>\n",
       "    <tr>\n",
       "      <th>0</th>\n",
       "      <td>0.385088</td>\n",
       "      <td>0.702528</td>\n",
       "      <td>0.364045</td>\n",
       "      <td>0.705285</td>\n",
       "      <td>0.361666</td>\n",
       "      <td>0.700772</td>\n",
       "      <td>0.359247</td>\n",
       "      <td>0.696249</td>\n",
       "      <td>0.364545</td>\n",
       "      <td>0.705934</td>\n",
       "      <td>...</td>\n",
       "      <td>0.768468</td>\n",
       "      <td>0.898328</td>\n",
       "      <td>0.851075</td>\n",
       "      <td>0.870051</td>\n",
       "      <td>0.811650</td>\n",
       "      <td>0.781881</td>\n",
       "      <td>0.930616</td>\n",
       "      <td>0.763475</td>\n",
       "      <td>0.904605</td>\n",
       "      <td>clean_data/TEST_TRAIN/downdog/00000372.jpg</td>\n",
       "    </tr>\n",
       "    <tr>\n",
       "      <th>1</th>\n",
       "      <td>0.715758</td>\n",
       "      <td>0.547609</td>\n",
       "      <td>0.729912</td>\n",
       "      <td>0.527488</td>\n",
       "      <td>0.729571</td>\n",
       "      <td>0.523913</td>\n",
       "      <td>0.728997</td>\n",
       "      <td>0.520017</td>\n",
       "      <td>0.728891</td>\n",
       "      <td>0.527579</td>\n",
       "      <td>...</td>\n",
       "      <td>0.664694</td>\n",
       "      <td>0.307465</td>\n",
       "      <td>0.655862</td>\n",
       "      <td>0.261937</td>\n",
       "      <td>0.680302</td>\n",
       "      <td>0.380548</td>\n",
       "      <td>0.670513</td>\n",
       "      <td>0.336641</td>\n",
       "      <td>0.713165</td>\n",
       "      <td>clean_data/TEST_TRAIN/downdog/00000414.jpg</td>\n",
       "    </tr>\n",
       "    <tr>\n",
       "      <th>2</th>\n",
       "      <td>0.530292</td>\n",
       "      <td>0.608646</td>\n",
       "      <td>0.514618</td>\n",
       "      <td>0.623104</td>\n",
       "      <td>0.510664</td>\n",
       "      <td>0.621608</td>\n",
       "      <td>0.506621</td>\n",
       "      <td>0.619859</td>\n",
       "      <td>0.517501</td>\n",
       "      <td>0.626247</td>\n",
       "      <td>...</td>\n",
       "      <td>0.729783</td>\n",
       "      <td>0.889003</td>\n",
       "      <td>0.781900</td>\n",
       "      <td>0.853871</td>\n",
       "      <td>0.763474</td>\n",
       "      <td>0.806643</td>\n",
       "      <td>0.812826</td>\n",
       "      <td>0.792238</td>\n",
       "      <td>0.797374</td>\n",
       "      <td>clean_data/TEST_TRAIN/downdog/00000158.jpg</td>\n",
       "    </tr>\n",
       "  </tbody>\n",
       "</table>\n",
       "<p>3 rows × 67 columns</p>\n",
       "</div>"
      ],
      "text/plain": [
       "     lmk0_x    lmk0_y    lmk1_x    lmk1_y    lmk2_x    lmk2_y    lmk3_x  \\\n",
       "0  0.385088  0.702528  0.364045  0.705285  0.361666  0.700772  0.359247   \n",
       "1  0.715758  0.547609  0.729912  0.527488  0.729571  0.523913  0.728997   \n",
       "2  0.530292  0.608646  0.514618  0.623104  0.510664  0.621608  0.506621   \n",
       "\n",
       "     lmk3_y    lmk4_x    lmk4_y  ...   lmk28_y   lmk29_x   lmk29_y   lmk30_x  \\\n",
       "0  0.696249  0.364545  0.705934  ...  0.768468  0.898328  0.851075  0.870051   \n",
       "1  0.520017  0.728891  0.527579  ...  0.664694  0.307465  0.655862  0.261937   \n",
       "2  0.619859  0.517501  0.626247  ...  0.729783  0.889003  0.781900  0.853871   \n",
       "\n",
       "    lmk30_y   lmk31_x   lmk31_y   lmk32_x   lmk32_y  \\\n",
       "0  0.811650  0.781881  0.930616  0.763475  0.904605   \n",
       "1  0.680302  0.380548  0.670513  0.336641  0.713165   \n",
       "2  0.763474  0.806643  0.812826  0.792238  0.797374   \n",
       "\n",
       "                                    file_name  \n",
       "0  clean_data/TEST_TRAIN/downdog/00000372.jpg  \n",
       "1  clean_data/TEST_TRAIN/downdog/00000414.jpg  \n",
       "2  clean_data/TEST_TRAIN/downdog/00000158.jpg  \n",
       "\n",
       "[3 rows x 67 columns]"
      ]
     },
     "execution_count": 4,
     "metadata": {},
     "output_type": "execute_result"
    }
   ],
   "source": [
    "df = pd.read_csv(\"raw_kp_data.csv\")\n",
    "df = df.drop(df.columns[0], axis=1)\n",
    "columns = []\n",
    "for lmk in [f\"lmk{x}\" for x in range(33)]:\n",
    "    for each in [\"x\", \"y\"]:\n",
    "        columns.append(f\"{lmk}_{each}\")\n",
    "columns.append(\"file_name\")\n",
    "\n",
    "df = df.rename(columns=dict(zip(df.columns, columns)))\n",
    "df.head(3)"
   ]
  },
  {
   "cell_type": "code",
   "execution_count": 5,
   "metadata": {},
   "outputs": [],
   "source": [
    "# Create df_X and df_y from df\n",
    "\n",
    "df[\"pose\"] = df[\"file_name\"].apply(lambda x: x.split(\"/\")[2])\n",
    "df[\"pose\"] = df[\"pose\"].astype(\"category\")\n",
    "df_X = df.drop(columns=[\"pose\", \"file_name\"])\n",
    "df_y = df[\"pose\"]"
   ]
  },
  {
   "cell_type": "markdown",
   "metadata": {},
   "source": [
    "# Preprocessing Pipeline"
   ]
  },
  {
   "cell_type": "markdown",
   "metadata": {},
   "source": [
    "1. Drop landmarks 1, 3, 4, 6\n",
    "2. Scale"
   ]
  },
  {
   "cell_type": "code",
   "execution_count": 7,
   "metadata": {},
   "outputs": [],
   "source": [
    "# lmk_to_drop = [1, 3, 4, 6]\n",
    "# cols_to_drop = []\n",
    "# for lmk in lmk_to_drop:\n",
    "#     for each in [\"x\", \"y\"]:\n",
    "#         cols_to_drop.append(f\"lmk{str(lmk)}_{each}\")\n",
    "\n",
    "# x\n",
    "cols_to_drop = [2,3,6,7,8,9,12,13]\n",
    "cols_to_scale = [i for i in range(0,66) if i not in cols_to_drop]\n",
    "\n",
    "transformers = [\n",
    "    (\"drop\", \"drop\", cols_to_drop),\n",
    "    (\"scale\", StandardScaler(), cols_to_scale)\n",
    "]\n",
    "\n",
    "column_transformer = ColumnTransformer(transformers=transformers, remainder=\"passthrough\")\n",
    "\n",
    "pipeline = make_pipeline(\n",
    "    column_transformer\n",
    ")\n",
    "\n",
    "# X = pipeline.fit_transform(np.array(df_X))\n",
    "\n",
    "# y\n",
    "label_encoder = LabelEncoder()\n",
    "y_encoded = label_encoder.fit_transform(df_y)\n",
    "y_ohe = tf.keras.utils.to_categorical(y_encoded)\n"
   ]
  },
  {
   "cell_type": "code",
   "execution_count": 8,
   "metadata": {},
   "outputs": [
    {
     "data": {
      "text/plain": [
       "array(['downdog', 'goddess', 'plank', 'tree_chest', 'tree_up',\n",
       "       'warrior2_left', 'warrior2_right'], dtype=object)"
      ]
     },
     "execution_count": 8,
     "metadata": {},
     "output_type": "execute_result"
    }
   ],
   "source": [
    "label_encoder.classes_"
   ]
  },
  {
   "cell_type": "markdown",
   "metadata": {},
   "source": [
    "### Simple NN"
   ]
  },
  {
   "cell_type": "code",
   "execution_count": 9,
   "metadata": {},
   "outputs": [],
   "source": [
    "X = pipeline.fit_transform(df_X)\n",
    "y = y_ohe\n",
    "y_cat = pd.array(df_y)\n",
    "X_train, X_val, y_train, y_val = train_test_split(X, y, test_size=0.2)"
   ]
  },
  {
   "cell_type": "code",
   "execution_count": 14,
   "metadata": {},
   "outputs": [
    {
     "name": "stdout",
     "output_type": "stream",
     "text": [
      "Model: \"sequential_1\"\n",
      "_________________________________________________________________\n",
      " Layer (type)                Output Shape              Param #   \n",
      "=================================================================\n",
      " dense_4 (Dense)             (None, 128)               7552      \n",
      "                                                                 \n",
      " dense_5 (Dense)             (None, 64)                8256      \n",
      "                                                                 \n",
      " dense_6 (Dense)             (None, 32)                2080      \n",
      "                                                                 \n",
      " dense_7 (Dense)             (None, 7)                 231       \n",
      "                                                                 \n",
      "=================================================================\n",
      "Total params: 18,119\n",
      "Trainable params: 18,119\n",
      "Non-trainable params: 0\n",
      "_________________________________________________________________\n"
     ]
    }
   ],
   "source": [
    "model = tf.keras.Sequential()\n",
    "\n",
    "model.add(tf.keras.layers.Input(shape=[X_train.shape[1]]))\n",
    "model.add(tf.keras.layers.Dense(128, activation=\"relu\"))\n",
    "model.add(tf.keras.layers.Dense(64, activation=\"relu\"))\n",
    "model.add(tf.keras.layers.Dense(32, activation=\"relu\"))\n",
    "model.add(tf.keras.layers.Dense(len(poses), activation=\"softmax\"))\n",
    "\n",
    "model.compile(loss='categorical_crossentropy',\n",
    "                optimizer='adam',\n",
    "                metrics=['accuracy'])\n",
    "\n",
    "model.summary()"
   ]
  },
  {
   "cell_type": "code",
   "execution_count": 11,
   "metadata": {},
   "outputs": [
    {
     "name": "stdout",
     "output_type": "stream",
     "text": [
      "X_train.shape = (436, 58)\n",
      "y_train.shape = (436, 7)\n",
      "X_val.shape = (110, 58)\n",
      "y_val.shape = (110, 7)\n"
     ]
    }
   ],
   "source": [
    "print(f\"{X_train.shape = }\")\n",
    "print(f\"{y_train.shape = }\")\n",
    "print(f\"{X_val.shape = }\")\n",
    "print(f\"{y_val.shape = }\")"
   ]
  },
  {
   "cell_type": "code",
   "execution_count": 15,
   "metadata": {},
   "outputs": [
    {
     "name": "stdout",
     "output_type": "stream",
     "text": [
      "Epoch 1/30\n",
      "14/14 [==============================] - 1s 20ms/step - loss: 1.4783 - accuracy: 0.4404 - val_loss: 1.0363 - val_accuracy: 0.6364\n",
      "Epoch 2/30\n",
      "14/14 [==============================] - 0s 5ms/step - loss: 0.8676 - accuracy: 0.6881 - val_loss: 0.7044 - val_accuracy: 0.7273\n",
      "Epoch 3/30\n",
      "14/14 [==============================] - 0s 4ms/step - loss: 0.6058 - accuracy: 0.8509 - val_loss: 0.4930 - val_accuracy: 0.9545\n",
      "Epoch 4/30\n",
      "14/14 [==============================] - 0s 4ms/step - loss: 0.3935 - accuracy: 0.9564 - val_loss: 0.3199 - val_accuracy: 0.9545\n",
      "Epoch 5/30\n",
      "14/14 [==============================] - 0s 4ms/step - loss: 0.2378 - accuracy: 0.9702 - val_loss: 0.2349 - val_accuracy: 0.9455\n",
      "Epoch 6/30\n",
      "14/14 [==============================] - 0s 4ms/step - loss: 0.1483 - accuracy: 0.9885 - val_loss: 0.1683 - val_accuracy: 0.9727\n",
      "Epoch 7/30\n",
      "14/14 [==============================] - 0s 11ms/step - loss: 0.0968 - accuracy: 0.9908 - val_loss: 0.1382 - val_accuracy: 0.9636\n",
      "Epoch 8/30\n",
      "14/14 [==============================] - 0s 4ms/step - loss: 0.0669 - accuracy: 1.0000 - val_loss: 0.1220 - val_accuracy: 0.9636\n",
      "Epoch 9/30\n",
      "14/14 [==============================] - 0s 4ms/step - loss: 0.0466 - accuracy: 0.9977 - val_loss: 0.0944 - val_accuracy: 0.9636\n",
      "Epoch 10/30\n",
      "14/14 [==============================] - 0s 4ms/step - loss: 0.0352 - accuracy: 1.0000 - val_loss: 0.0923 - val_accuracy: 0.9636\n",
      "Epoch 11/30\n",
      "14/14 [==============================] - 0s 4ms/step - loss: 0.0275 - accuracy: 1.0000 - val_loss: 0.0889 - val_accuracy: 0.9727\n",
      "Epoch 12/30\n",
      "14/14 [==============================] - 0s 4ms/step - loss: 0.0219 - accuracy: 1.0000 - val_loss: 0.0852 - val_accuracy: 0.9727\n",
      "Epoch 13/30\n",
      "14/14 [==============================] - 0s 3ms/step - loss: 0.0173 - accuracy: 1.0000 - val_loss: 0.0822 - val_accuracy: 0.9727\n",
      "Epoch 14/30\n",
      "14/14 [==============================] - 0s 4ms/step - loss: 0.0152 - accuracy: 1.0000 - val_loss: 0.0820 - val_accuracy: 0.9727\n",
      "Epoch 15/30\n",
      "14/14 [==============================] - 0s 4ms/step - loss: 0.0123 - accuracy: 1.0000 - val_loss: 0.0848 - val_accuracy: 0.9636\n",
      "Epoch 16/30\n",
      "14/14 [==============================] - 0s 4ms/step - loss: 0.0115 - accuracy: 1.0000 - val_loss: 0.0816 - val_accuracy: 0.9727\n",
      "Epoch 17/30\n",
      "14/14 [==============================] - 0s 4ms/step - loss: 0.0083 - accuracy: 1.0000 - val_loss: 0.0796 - val_accuracy: 0.9727\n",
      "Epoch 18/30\n",
      "14/14 [==============================] - 0s 4ms/step - loss: 0.0077 - accuracy: 1.0000 - val_loss: 0.0802 - val_accuracy: 0.9727\n",
      "Epoch 19/30\n",
      "14/14 [==============================] - 0s 4ms/step - loss: 0.0066 - accuracy: 1.0000 - val_loss: 0.0805 - val_accuracy: 0.9727\n",
      "Epoch 20/30\n",
      "14/14 [==============================] - 0s 4ms/step - loss: 0.0057 - accuracy: 1.0000 - val_loss: 0.0767 - val_accuracy: 0.9727\n",
      "Epoch 21/30\n",
      "14/14 [==============================] - 0s 4ms/step - loss: 0.0049 - accuracy: 1.0000 - val_loss: 0.0776 - val_accuracy: 0.9727\n",
      "Epoch 22/30\n",
      "14/14 [==============================] - 0s 4ms/step - loss: 0.0044 - accuracy: 1.0000 - val_loss: 0.0794 - val_accuracy: 0.9727\n",
      "Epoch 23/30\n",
      "14/14 [==============================] - 0s 4ms/step - loss: 0.0039 - accuracy: 1.0000 - val_loss: 0.0772 - val_accuracy: 0.9727\n",
      "Epoch 24/30\n",
      "14/14 [==============================] - 0s 4ms/step - loss: 0.0035 - accuracy: 1.0000 - val_loss: 0.0787 - val_accuracy: 0.9727\n",
      "Epoch 25/30\n",
      "14/14 [==============================] - 0s 4ms/step - loss: 0.0033 - accuracy: 1.0000 - val_loss: 0.0772 - val_accuracy: 0.9727\n",
      "Epoch 26/30\n",
      "14/14 [==============================] - 0s 4ms/step - loss: 0.0031 - accuracy: 1.0000 - val_loss: 0.0751 - val_accuracy: 0.9727\n",
      "Epoch 27/30\n",
      "14/14 [==============================] - 0s 4ms/step - loss: 0.0030 - accuracy: 1.0000 - val_loss: 0.0773 - val_accuracy: 0.9727\n",
      "Epoch 28/30\n",
      "14/14 [==============================] - 0s 4ms/step - loss: 0.0026 - accuracy: 1.0000 - val_loss: 0.0784 - val_accuracy: 0.9727\n",
      "Epoch 29/30\n",
      "14/14 [==============================] - 0s 4ms/step - loss: 0.0023 - accuracy: 1.0000 - val_loss: 0.0779 - val_accuracy: 0.9727\n",
      "Epoch 30/30\n",
      "14/14 [==============================] - 0s 4ms/step - loss: 0.0021 - accuracy: 1.0000 - val_loss: 0.0773 - val_accuracy: 0.9727\n"
     ]
    }
   ],
   "source": [
    "history = model.fit(X_train, y_train, epochs=30, validation_data=(X_val, y_val),\n",
    "                     verbose=True)"
   ]
  },
  {
   "cell_type": "code",
   "execution_count": 16,
   "metadata": {},
   "outputs": [
    {
     "data": {
      "image/png": "[encoded data removed]",
      "text/plain": [
       "<Figure size 1200x400 with 2 Axes>"
      ]
     },
     "metadata": {},
     "output_type": "display_data"
    }
   ],
   "source": [
    "def plot_history(history):\n",
    "    plt.figure(figsize=(12, 4))\n",
    "\n",
    "    plt.subplot(1, 2, 1)\n",
    "    plt.plot(history.history['loss'], label='Train Loss')\n",
    "    plt.plot(history.history['val_loss'], label='Validation Loss')\n",
    "    plt.title('Model Loss')\n",
    "    plt.ylabel('Loss')\n",
    "    plt.xlabel('Epoch')\n",
    "    plt.legend()\n",
    "\n",
    "    plt.subplot(1, 2, 2)\n",
    "    plt.plot(history.history['accuracy'], label='Train Accuracy')\n",
    "    plt.plot(history.history['val_accuracy'], label='Validation Accuracy')\n",
    "    plt.title('Model Accuracy')\n",
    "    plt.ylabel('Accuracy')\n",
    "    plt.xlabel('Epoch')\n",
    "    plt.legend()\n",
    "\n",
    "    plt.tight_layout()\n",
    "    plt.show()\n",
    "\n",
    "plot_history(history)"
   ]
  },
  {
   "cell_type": "code",
   "execution_count": 17,
   "metadata": {},
   "outputs": [
    {
     "data": {
      "text/plain": [
       "['models/pipeline_v1.1.pkl']"
      ]
     },
     "execution_count": 17,
     "metadata": {},
     "output_type": "execute_result"
    }
   ],
   "source": [
    "model.save(\"models/nn_v1.1.h5\")\n",
    "dump(pipeline, \"models/pipeline_v1.1.pkl\")"
   ]
  },
  {
   "cell_type": "code",
   "execution_count": 24,
   "metadata": {},
   "outputs": [],
   "source": [
    "pipeline = joblib.load(\"models/pipeline_v1_1.pkl\")"
   ]
  },
  {
   "cell_type": "code",
   "execution_count": 26,
   "metadata": {},
   "outputs": [
    {
     "name": "stdout",
     "output_type": "stream",
     "text": [
      "/Users/homemasaki/code/projects/yoga-pose-detector-v2\n"
     ]
    }
   ],
   "source": [
    "!pwd"
   ]
  },
  {
   "cell_type": "code",
   "execution_count": null,
   "metadata": {},
   "outputs": [],
   "source": []
  }
 ],
 "metadata": {
  "kernelspec": {
   "display_name": "yoga-pose-detector",
   "language": "python",
   "name": "python3"
  },
  "language_info": {
   "codemirror_mode": {
    "name": "ipython",
    "version": 3
   },
   "file_extension": ".py",
   "mimetype": "text/x-python",
   "name": "python",
   "nbconvert_exporter": "python",
   "pygments_lexer": "ipython3",
   "version": "3.10.6"
  }
 },
 "nbformat": 4,
 "nbformat_minor": 2
}
